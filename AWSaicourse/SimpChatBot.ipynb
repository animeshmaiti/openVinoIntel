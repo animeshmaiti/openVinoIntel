{
 "cells": [
  {
   "cell_type": "code",
   "execution_count": 2,
   "metadata": {},
   "outputs": [],
   "source": [
    "responses = {\n",
    "\"hi\": \"Hello there! How can I assist you today?\",\n",
    "\"how are you\": \"I'm a bot, so I don't have feelings, but I'm functioning properly!\",\n",
    "\"bye\": \"Goodbye! Have a great day!\",\n",
    "\"help\": \"Sure, I can help you. What do you need assistance with?\",\n",
    "}"
   ]
  },
  {
   "cell_type": "code",
   "execution_count": 3,
   "metadata": {},
   "outputs": [],
   "source": [
    "# Function to get the bot response\n",
    "def get_bot_response(user_input):\n",
    "    # Make the input lowercase to match the dictionary keys\n",
    "    user_input = user_input.lower()\n",
    "\n",
    "    # Return the matching response if it exists, otherwise return a default response\n",
    "    return responses.get(user_input, \"I'm not sure how to respond to that. Can you try asking something else?\")"
   ]
  },
  {
   "cell_type": "code",
   "execution_count": 4,
   "metadata": {},
   "outputs": [
    {
     "name": "stdout",
     "output_type": "stream",
     "text": [
      "You: hi\n",
      "Bot: Hello there! How can I assist you today?\n",
      "You: helo\n",
      "Bot: I'm not sure how to respond to that. Can you try asking something else?\n",
      "You: \n",
      "Bot: I'm not sure how to respond to that. Can you try asking something else?\n",
      "You: quit\n",
      "Bot: Goodbye!\n"
     ]
    }
   ],
   "source": [
    "# Main chat loop\n",
    "while True:\n",
    "    user_input = input(\"You: \")\n",
    "    print(\"You:\",user_input)\n",
    "    if user_input.lower() == \"quit\":\n",
    "        print(\"Bot: Goodbye!\")\n",
    "        break\n",
    "\n",
    "    response = get_bot_response(user_input)\n",
    "    print(f\"Bot: {response}\")"
   ]
  }
 ],
 "metadata": {
  "kernelspec": {
   "display_name": "py310",
   "language": "python",
   "name": "python3"
  },
  "language_info": {
   "codemirror_mode": {
    "name": "ipython",
    "version": 3
   },
   "file_extension": ".py",
   "mimetype": "text/x-python",
   "name": "python",
   "nbconvert_exporter": "python",
   "pygments_lexer": "ipython3",
   "version": "3.10.13"
  }
 },
 "nbformat": 4,
 "nbformat_minor": 2
}
